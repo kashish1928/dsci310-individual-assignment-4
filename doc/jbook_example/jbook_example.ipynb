{
 "cells": [
  {
   "cell_type": "code",
   "execution_count": null,
   "metadata": {
    "tags": [
     "remove-cell"
    ]
   },
   "outputs": [
    {
     "ename": "",
     "evalue": "",
     "output_type": "error",
     "traceback": [
      "\u001b[1;31mRunning cells with '/usr/local/bin/python3' requires ipykernel package.\n",
      "\u001b[1;31mRun the following command to install 'ipykernel' into the Python environment. \n",
      "\u001b[1;31mCommand: '/usr/local/bin/python3 -m pip install ipykernel -U --user --force-reinstall'"
     ]
    }
   ],
   "source": [
    "import pandas as pd\n",
    "from myst_nb import glue"
   ]
  },
  {
   "cell_type": "markdown",
   "metadata": {},
   "source": [
    "# Aim\n",
    "\n",
    "This project explores the historical population of horses in Canada\n",
    "between 1906 and 1972 for each province."
   ]
  },
  {
   "attachments": {},
   "cell_type": "markdown",
   "metadata": {},
   "source": [
    "# Data\n",
    "\n",
    "Horse population data were sourced from the [Government of Canada's Open Data website](http://open.canada.ca/en/open-data).\n",
    "Specifically, (Government of Canada, 2017)1 and (Government of Canada, 2017)2."
   ]
  },
  {
   "attachments": {},
   "cell_type": "markdown",
   "metadata": {},
   "source": [
    "# Methods\n",
    "\n",
    "The R programming language (R Core Team, 2019) and the following R packages were used\n",
    "to perform the analysis: knitr (Xie, 2014), tidyverse (Wickham, 2017), and\n",
    "bookdown (Xie, 2016)\n",
    "_Note: this report is adapted from (Timbers, 2020)._"
   ]
  },
  {
   "attachments": {},
   "cell_type": "markdown",
   "metadata": {},
   "source": [
    "# Results"
   ]
  },
  {
   "cell_type": "markdown",
   "metadata": {},
   "source": [
    "```{figure} ../../results/horse_pops_plot.png\n",
    "---\n",
    "name: \n",
    "---\n",
    "\n",
    "\n",
    "```\n",
    "Fig. 1 Horse populations for all provinces in Canada from 1906 - 1972\n",
    "\n",
    "We can see from Fig. 1\n",
    "that Ontario, Saskatchewan and Alberta have had the highest horse populations in Canada.\n",
    "All provinces have had a decline in horse populations since 1940.\n",
    "This is likely due to the rebound of the Canadian automotive\n",
    "industry after the Great Depression and the Second World War.\n",
    "An interesting follow-up visualisation would be car sales per year for each\n",
    "Province over the time period visualised above to further support this hypothesis. "
   ]
  },
  {
   "cell_type": "code",
   "execution_count": null,
   "metadata": {},
   "outputs": [
    {
     "ename": "",
     "evalue": "",
     "output_type": "error",
     "traceback": [
      "\u001b[1;31mRunning cells with '/usr/local/bin/python3' requires ipykernel package.\n",
      "\u001b[1;31mRun the following command to install 'ipykernel' into the Python environment. \n",
      "\u001b[1;31mCommand: '/usr/local/bin/python3 -m pip install ipykernel -U --user --force-reinstall'"
     ]
    }
   ],
   "source": [
    "horses_sd = pd.read_csv(\"../../results/horses_sd.csv\")\n",
    "\n",
    "largest_sd_prov = str(horses_sd['Province'][0])\n",
    "glue(\"largest-sd-prov\", largest_sd_prov)\n",
    "\n",
    "horses_sd_noindex = horses_sd.style.hide_index()\n",
    "glue(\"horses-tbl\", horses_sd_noindex)"
   ]
  },
  {
   "cell_type": "markdown",
   "metadata": {},
   "source": [
    "Suppose we were interested in looking in more closely at the\n",
    "province with the highest spread (in terms of standard deviation)\n",
    "of horse populations. We present the standard deviations here:\n",
    "\n",
    "```{glue:figure} horses-tbl\n",
    "---\n",
    "figwidth: 500px\n",
    "name: horses-tbl-fig\n",
    "---\n",
    "\n",
    "\n",
    "```\n",
    "Table 1: Standard deviation of number of horses for each province between 1940 - 1972\n",
    "\n",
    "\n",
    "Note that we define standard deviation (of a sample) as:\n",
    "\n",
    "$$s = sqrt{sum_{i = 1}^n(x_i - \\bar{x})} / {n-1}.$$\n",
    "\n",
    "Additionally, note that in Fig 2. we\n",
    "consider the sample standard deviation of the number of horses\n",
    "during the same time span as Fig. 1."
   ]
  },
  {
   "cell_type": "markdown",
   "metadata": {},
   "source": [
    ":::{figure-md}\n",
    "<img src=\"../../results/horse_pop_plot_largest_sd.png\" width=\"200px\">\n",
    "\n",
    "Horse populations for the province with the largest standard deviation\n",
    ":::\n",
    "\n",
    "In {numref}`Fig. {number} <largest-sd-province-plot>` we zoom in\n",
    "on the province of ?, which had the largest spread of values in\n",
    "terms of standard deviation."
   ]
  },
  {
   "attachments": {},
   "cell_type": "markdown",
   "metadata": {},
   "source": [
    "# Rererences"
   ]
  }
 ],
 "metadata": {
  "celltoolbar": "Edit Metadata",
  "kernelspec": {
   "display_name": "Python 3",
   "language": "python",
   "name": "python3"
  },
  "language_info": {
   "codemirror_mode": {
    "name": "ipython",
    "version": 3
   },
   "file_extension": ".py",
   "mimetype": "text/x-python",
   "name": "python",
   "nbconvert_exporter": "python",
   "pygments_lexer": "ipython3",
   "version": "3.9.0a1 (v3.9.0a1:fd757083df, Nov 19 2019, 10:51:29) \n[Clang 6.0 (clang-600.0.57)]"
  },
  "vscode": {
   "interpreter": {
    "hash": "aee8b7b246df8f9039afb4144a1f6fd8d2ca17a180786b69acc140d282b71a49"
   }
  }
 },
 "nbformat": 4,
 "nbformat_minor": 4
}
